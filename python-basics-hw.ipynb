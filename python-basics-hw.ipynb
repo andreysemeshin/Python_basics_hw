{
 "cells": [
  {
   "cell_type": "markdown",
   "metadata": {},
   "source": [
    "**Задание 1**. Даны 2 строки: *long_phrase* и *short_phrase*. \n",
    "Напишите код, который проверяет действительно ли длинная фраза *long_phrase* длиннее короткой *short_phrase*. И выводит *True* или *False* в зависимости от результата сравнения."
   ]
  },
  {
   "cell_type": "code",
   "execution_count": 2,
   "metadata": {},
   "outputs": [
    {
     "name": "stdout",
     "output_type": "stream",
     "text": [
      "True\n",
      "Длиннная:  62\n",
      "Короткая:  61\n"
     ]
    }
   ],
   "source": [
    "long_phrase = 'Насколько проще было бы писать программы, если бы не заказчики'\n",
    "short_phrase = '640Кб должно хватить для любых задач. Билл Гейтс (по легенде)'\n",
    "\n",
    "\n",
    "if len(long_phrase) > len(short_phrase):\n",
    "    print('True')\n",
    "    print('Длиннная: ',len(long_phrase)) #проверка\n",
    "    print('Короткая: ',len(short_phrase))\n",
    "else:\n",
    "    print('False')\n",
    "    print('Длиннная: ',len(long_phrase)) #проверка\n",
    "    print('Короткая: ',len(short_phrase))"
   ]
  },
  {
   "cell_type": "code",
   "execution_count": null,
   "metadata": {},
   "outputs": [],
   "source": []
  },
  {
   "cell_type": "markdown",
   "metadata": {},
   "source": [
    "**Задание 2**. Дано значение объема файла в байтах. Напишите перевод этого значения в мегабайты в формате: \"*Объем файла равен 213.68Mb*\""
   ]
  },
  {
   "cell_type": "code",
   "execution_count": 3,
   "metadata": {},
   "outputs": [
    {
     "name": "stdout",
     "output_type": "stream",
     "text": [
      "Введите размер файла в байтах: 1048576\n",
      "Объем файла равен  1.0 Mb\n"
     ]
    }
   ],
   "source": [
    "value = int(input('Введите размер файла в байтах: '))\n",
    "\n",
    "value = value / 1024**2\n",
    "\n",
    "print('Объем файла равен ', value, 'Mb')"
   ]
  },
  {
   "cell_type": "markdown",
   "metadata": {},
   "source": [
    "**Задание 3**. Разработать приложение для определения знака зодиака по дате рождения. Пример:\n",
    "\n",
    "Введите месяц: март\n",
    "\n",
    "Введите число: 6\n",
    "\n",
    "Вывод:\n",
    "Рыбы"
   ]
  },
  {
   "cell_type": "code",
   "execution_count": 4,
   "metadata": {},
   "outputs": [
    {
     "name": "stdout",
     "output_type": "stream",
     "text": [
      "Введите месяц: март\n",
      "Введите день: 20\n",
      "Вывод:\n",
      "Рыбы\n"
     ]
    }
   ],
   "source": [
    "month = str(input('Введите месяц: '))\n",
    "\n",
    "day = int(input('Введите день: '))\n",
    "\n",
    " \n",
    "\n",
    "print('Вывод:')\n",
    "\n",
    " \n",
    "\n",
    "if (day >= 20 and month == 'январь') or (day <= 19 and month == 'февраль'):\n",
    "\n",
    "  print('Водолей')\n",
    "\n",
    "elif (day >= 20 and month == 'февраль') or (day <= 20 and month == 'март'):\n",
    "\n",
    "  print('Рыбы')\n",
    "\n",
    "elif (day >= 21 and month == 'март') or (day <= 19 and month == 'апрель'):\n",
    "\n",
    "  print('Овен')  \n",
    "\n",
    "elif (day >= 20 and month == 'апрель') or (day <= 20 and month == 'май'):\n",
    "\n",
    "  print('Телец')  \n",
    "\n",
    "elif (day >= 21 and month == 'май') or (day <= 20 and month == 'июнь'):\n",
    "\n",
    "  print('Близнецы')  \n",
    "\n",
    "elif (day >= 21 and month == 'июнь') or (day <= 22 and month == 'июль'):\n",
    "\n",
    "  print('Рак')\n",
    "\n",
    "elif (day >= 23 and month == 'июль') or (day <= 22 and month == 'август'):\n",
    "\n",
    "  print('Лев')\n",
    "\n",
    "elif (day >= 23 and month == 'август') or (day <= 22 and month == 'сентябрь'):\n",
    "\n",
    "  print('Дева') \n",
    "\n",
    "elif (day >= 23 and month == 'сентябрь') or (day <= 23 and month == 'октябрь'):\n",
    "\n",
    "  print('Весы')\n",
    "\n",
    "elif (day >= 24 and month == 'октябрь') or (day <= 22 and month == 'ноябрь'):\n",
    "\n",
    "  print('Скорпион')\n",
    "\n",
    "elif (day >= 23 and month == 'ноябрь') or (day <= 21 and month == 'декабрь'):\n",
    "\n",
    "  print('Стрелец')       \n",
    "\n",
    "elif (day >= 21 and month == 'декабрь') or (day <= 19 and month == 'январь'):\n",
    "\n",
    "  print('Козерог')   "
   ]
  },
  {
   "cell_type": "markdown",
   "metadata": {},
   "source": [
    "**Задание 4**. Нужно разработать приложение для финансового планирования.\n",
    "Приложение учитывает сколько уходит на ипотеку, \"на жизнь\" и сколько нужно отложить на пенсию.\n",
    "Пользователь вводит:\n",
    "- заработанную плату в месяц.\n",
    "- сколько процентов от ЗП уходит на ипотеку.\n",
    "- сколько процентов от ЗП уходит \"на жизнь\".\n",
    "- сколько раз приходит премия в год.\n",
    "\n",
    "Остальная часть заработанной платы откладывается на пенсию.\n",
    "\n",
    "Также пользователю приходит премия в размере зарплаты, от которой половина уходит на отпуск, а вторая половина откладывается.\n",
    "\n",
    "Программа должна учитывать сколько премий было в год.\n",
    "\n",
    "Нужно вывести сколько денег тратит пользователь на ипотеку и сколько он накопит за год.\n",
    "\n",
    "Пример:\n",
    "\n",
    "Введите заработанную плату в месяц: 100000\n",
    "\n",
    "Введите сколько процентов уходит на ипотеку: 30\n",
    "\n",
    "Введите сколько процентов уходит на жизнь: 50\n",
    "\n",
    "Введите количество премий за год: 2\n",
    "\n",
    "Вывод:\n",
    "На ипотеку было потрачено: 360000 рублей\n",
    "Было накоплено: 340000 рублей"
   ]
  },
  {
   "cell_type": "code",
   "execution_count": 5,
   "metadata": {},
   "outputs": [
    {
     "name": "stdout",
     "output_type": "stream",
     "text": [
      "Введите зп в месяц: 100000\n",
      "Введите сколько % уходит на ипотеку: 30\n",
      "Введите сколько % уходит на жизнь: 50\n",
      "Введите кол-во премий за год: 2\n",
      "Вывод: \n",
      "На ипотеку было потрачен:  360000  рублей\n",
      "Было накоплено:  340000  рублей\n"
     ]
    }
   ],
   "source": [
    "salary = int(input('Введите зп в месяц: '))\n",
    "\n",
    "mortgage_percent = int(input('Введите сколько % уходит на ипотеку: '))\n",
    "\n",
    "expenses_percent = int(input('Введите сколько % уходит на жизнь: '))\n",
    "\n",
    "premium = int(input('Введите кол-во премий за год: '))\n",
    "\n",
    " \n",
    "\n",
    "if (expenses_percent + mortgage_percent) > 100:\n",
    "\n",
    "  print('Жизнь в долг')\n",
    "\n",
    "else: \n",
    "\n",
    "  mortgage = salary * (mortgage_percent / 100) * 12\n",
    "\n",
    " \n",
    "\n",
    "  life = salary * (expenses_percent / 100) * 12\n",
    "\n",
    " \n",
    "\n",
    "  savings = (salary * 12) - mortgage - life\n",
    "\n",
    " \n",
    "\n",
    "  savings += (salary * premium) / 2\n",
    "\n",
    " \n",
    "\n",
    "  print('Вывод: ')\n",
    "\n",
    "  print('На ипотеку было потрачен: ', round(mortgage),' рублей')\n",
    "\n",
    "  print('Было накоплено: ', round(savings), ' рублей')"
   ]
  }
 ],
 "metadata": {
  "kernelspec": {
   "display_name": "Python 3",
   "language": "python",
   "name": "python3"
  },
  "language_info": {
   "codemirror_mode": {
    "name": "ipython",
    "version": 3
   },
   "file_extension": ".py",
   "mimetype": "text/x-python",
   "name": "python",
   "nbconvert_exporter": "python",
   "pygments_lexer": "ipython3",
   "version": "3.7.4"
  }
 },
 "nbformat": 4,
 "nbformat_minor": 2
}
